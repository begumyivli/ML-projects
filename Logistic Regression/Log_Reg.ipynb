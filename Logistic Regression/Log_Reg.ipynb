{
 "cells": [
  {
   "cell_type": "markdown",
   "id": "f091e5a1-8ec9-4969-a9b1-16cdaff9ac7f",
   "metadata": {},
   "source": [
    "# CMPE462 - Assignment 1"
   ]
  },
  {
   "cell_type": "markdown",
   "id": "3cc608d6-a30b-44f2-a711-caf5c7f56734",
   "metadata": {
    "tags": []
   },
   "source": [
    "## 2. Logistic Regression"
   ]
  },
  {
   "cell_type": "markdown",
   "id": "6e356b13-382e-4f8a-b961-0ca3062f1d77",
   "metadata": {},
   "source": [
    "### Importing the Data"
   ]
  },
  {
   "cell_type": "code",
   "execution_count": 1,
   "id": "8f0727f3-c4a2-472c-9a30-4b5b3b8e5fdb",
   "metadata": {
    "tags": []
   },
   "outputs": [
    {
     "data": {
      "text/html": [
       "<div>\n",
       "<style scoped>\n",
       "    .dataframe tbody tr th:only-of-type {\n",
       "        vertical-align: middle;\n",
       "    }\n",
       "\n",
       "    .dataframe tbody tr th {\n",
       "        vertical-align: top;\n",
       "    }\n",
       "\n",
       "    .dataframe thead th {\n",
       "        text-align: right;\n",
       "    }\n",
       "</style>\n",
       "<table border=\"1\" class=\"dataframe\">\n",
       "  <thead>\n",
       "    <tr style=\"text-align: right;\">\n",
       "      <th></th>\n",
       "      <th>Area</th>\n",
       "      <th>Perimeter</th>\n",
       "      <th>Major_Axis_Length</th>\n",
       "      <th>Minor_Axis_Length</th>\n",
       "      <th>Eccentricity</th>\n",
       "      <th>Convex_Area</th>\n",
       "      <th>Extent</th>\n",
       "      <th>Class</th>\n",
       "    </tr>\n",
       "  </thead>\n",
       "  <tbody>\n",
       "    <tr>\n",
       "      <th>0</th>\n",
       "      <td>15231.0</td>\n",
       "      <td>525.578979</td>\n",
       "      <td>229.749878</td>\n",
       "      <td>85.093788</td>\n",
       "      <td>0.928882</td>\n",
       "      <td>15617.0</td>\n",
       "      <td>0.572896</td>\n",
       "      <td>b'Cammeo'</td>\n",
       "    </tr>\n",
       "    <tr>\n",
       "      <th>1</th>\n",
       "      <td>14656.0</td>\n",
       "      <td>494.311005</td>\n",
       "      <td>206.020065</td>\n",
       "      <td>91.730972</td>\n",
       "      <td>0.895405</td>\n",
       "      <td>15072.0</td>\n",
       "      <td>0.615436</td>\n",
       "      <td>b'Cammeo'</td>\n",
       "    </tr>\n",
       "    <tr>\n",
       "      <th>2</th>\n",
       "      <td>14634.0</td>\n",
       "      <td>501.122009</td>\n",
       "      <td>214.106781</td>\n",
       "      <td>87.768288</td>\n",
       "      <td>0.912118</td>\n",
       "      <td>14954.0</td>\n",
       "      <td>0.693259</td>\n",
       "      <td>b'Cammeo'</td>\n",
       "    </tr>\n",
       "    <tr>\n",
       "      <th>3</th>\n",
       "      <td>13176.0</td>\n",
       "      <td>458.342987</td>\n",
       "      <td>193.337387</td>\n",
       "      <td>87.448395</td>\n",
       "      <td>0.891861</td>\n",
       "      <td>13368.0</td>\n",
       "      <td>0.640669</td>\n",
       "      <td>b'Cammeo'</td>\n",
       "    </tr>\n",
       "    <tr>\n",
       "      <th>4</th>\n",
       "      <td>14688.0</td>\n",
       "      <td>507.166992</td>\n",
       "      <td>211.743378</td>\n",
       "      <td>89.312454</td>\n",
       "      <td>0.906691</td>\n",
       "      <td>15262.0</td>\n",
       "      <td>0.646024</td>\n",
       "      <td>b'Cammeo'</td>\n",
       "    </tr>\n",
       "  </tbody>\n",
       "</table>\n",
       "</div>"
      ],
      "text/plain": [
       "      Area   Perimeter  Major_Axis_Length  Minor_Axis_Length  Eccentricity   \n",
       "0  15231.0  525.578979         229.749878          85.093788      0.928882  \\\n",
       "1  14656.0  494.311005         206.020065          91.730972      0.895405   \n",
       "2  14634.0  501.122009         214.106781          87.768288      0.912118   \n",
       "3  13176.0  458.342987         193.337387          87.448395      0.891861   \n",
       "4  14688.0  507.166992         211.743378          89.312454      0.906691   \n",
       "\n",
       "   Convex_Area    Extent      Class  \n",
       "0      15617.0  0.572896  b'Cammeo'  \n",
       "1      15072.0  0.615436  b'Cammeo'  \n",
       "2      14954.0  0.693259  b'Cammeo'  \n",
       "3      13368.0  0.640669  b'Cammeo'  \n",
       "4      15262.0  0.646024  b'Cammeo'  "
      ]
     },
     "execution_count": 1,
     "metadata": {},
     "output_type": "execute_result"
    }
   ],
   "source": [
    "from scipy.io import arff\n",
    "import pandas as pd\n",
    "import numpy as np\n",
    "\n",
    "data, meta = arff.loadarff('Rice_Cammeo_Osmancik.arff')\n",
    "\n",
    "df = pd.DataFrame(data)\n",
    "\n",
    "df.head()"
   ]
  },
  {
   "cell_type": "markdown",
   "id": "385bc61e-e8f5-41f8-bbf7-72391f912621",
   "metadata": {},
   "source": [
    "#### Information about the data"
   ]
  },
  {
   "cell_type": "code",
   "execution_count": 2,
   "id": "ef24d54d-92d5-4994-9f7c-5b4be1c8da87",
   "metadata": {
    "tags": []
   },
   "outputs": [
    {
     "name": "stdout",
     "output_type": "stream",
     "text": [
      "<class 'pandas.core.frame.DataFrame'>\n",
      "RangeIndex: 3810 entries, 0 to 3809\n",
      "Data columns (total 8 columns):\n",
      " #   Column             Non-Null Count  Dtype  \n",
      "---  ------             --------------  -----  \n",
      " 0   Area               3810 non-null   float64\n",
      " 1   Perimeter          3810 non-null   float64\n",
      " 2   Major_Axis_Length  3810 non-null   float64\n",
      " 3   Minor_Axis_Length  3810 non-null   float64\n",
      " 4   Eccentricity       3810 non-null   float64\n",
      " 5   Convex_Area        3810 non-null   float64\n",
      " 6   Extent             3810 non-null   float64\n",
      " 7   Class              3810 non-null   object \n",
      "dtypes: float64(7), object(1)\n",
      "memory usage: 238.3+ KB\n"
     ]
    }
   ],
   "source": [
    "df.info()"
   ]
  },
  {
   "cell_type": "code",
   "execution_count": 3,
   "id": "440fbe8d-c7d7-4db6-9acb-98b87f9b65ee",
   "metadata": {
    "tags": []
   },
   "outputs": [
    {
     "data": {
      "text/plain": [
       "Area                     18913.0\n",
       "Perimeter             548.445984\n",
       "Major_Axis_Length     239.010498\n",
       "Minor_Axis_Length      107.54245\n",
       "Eccentricity            0.948007\n",
       "Convex_Area              19099.0\n",
       "Extent                   0.86105\n",
       "Class                b'Osmancik'\n",
       "dtype: object"
      ]
     },
     "execution_count": 3,
     "metadata": {},
     "output_type": "execute_result"
    }
   ],
   "source": [
    "df.max()"
   ]
  },
  {
   "cell_type": "code",
   "execution_count": 4,
   "id": "3298eee5-fd7a-4f21-8ee5-427b814696c8",
   "metadata": {
    "tags": []
   },
   "outputs": [
    {
     "data": {
      "text/plain": [
       "Area                     7551.0\n",
       "Perimeter            359.100006\n",
       "Major_Axis_Length    145.264465\n",
       "Minor_Axis_Length     59.532406\n",
       "Eccentricity           0.777233\n",
       "Convex_Area              7723.0\n",
       "Extent                 0.497413\n",
       "Class                 b'Cammeo'\n",
       "dtype: object"
      ]
     },
     "execution_count": 4,
     "metadata": {},
     "output_type": "execute_result"
    }
   ],
   "source": [
    "df.min()"
   ]
  },
  {
   "cell_type": "markdown",
   "id": "4257ff47-9e2c-4470-bac1-1c7fc56733a2",
   "metadata": {},
   "source": [
    "### Normalizing Data"
   ]
  },
  {
   "cell_type": "markdown",
   "id": "ce37a06e-cebf-4513-b89b-423f9be35b6c",
   "metadata": {
    "tags": []
   },
   "source": [
    "#### Considering the nature of the data we should not normalize the ones that are already between 0 and 1 "
   ]
  },
  {
   "cell_type": "code",
   "execution_count": 5,
   "id": "eb54eb01-b456-4cac-938a-a674627d1486",
   "metadata": {
    "tags": []
   },
   "outputs": [
    {
     "data": {
      "text/html": [
       "<div>\n",
       "<style scoped>\n",
       "    .dataframe tbody tr th:only-of-type {\n",
       "        vertical-align: middle;\n",
       "    }\n",
       "\n",
       "    .dataframe tbody tr th {\n",
       "        vertical-align: top;\n",
       "    }\n",
       "\n",
       "    .dataframe thead th {\n",
       "        text-align: right;\n",
       "    }\n",
       "</style>\n",
       "<table border=\"1\" class=\"dataframe\">\n",
       "  <thead>\n",
       "    <tr style=\"text-align: right;\">\n",
       "      <th></th>\n",
       "      <th>Area</th>\n",
       "      <th>Perimeter</th>\n",
       "      <th>Major_Axis_Length</th>\n",
       "      <th>Minor_Axis_Length</th>\n",
       "      <th>Eccentricity</th>\n",
       "      <th>Convex_Area</th>\n",
       "      <th>Extent</th>\n",
       "      <th>Class</th>\n",
       "    </tr>\n",
       "  </thead>\n",
       "  <tbody>\n",
       "    <tr>\n",
       "      <th>0</th>\n",
       "      <td>0.675937</td>\n",
       "      <td>0.879232</td>\n",
       "      <td>0.901216</td>\n",
       "      <td>0.532417</td>\n",
       "      <td>0.928882</td>\n",
       "      <td>0.693917</td>\n",
       "      <td>0.572896</td>\n",
       "      <td>b'Cammeo'</td>\n",
       "    </tr>\n",
       "    <tr>\n",
       "      <th>1</th>\n",
       "      <td>0.625330</td>\n",
       "      <td>0.714095</td>\n",
       "      <td>0.648087</td>\n",
       "      <td>0.670663</td>\n",
       "      <td>0.895405</td>\n",
       "      <td>0.646009</td>\n",
       "      <td>0.615436</td>\n",
       "      <td>b'Cammeo'</td>\n",
       "    </tr>\n",
       "    <tr>\n",
       "      <th>2</th>\n",
       "      <td>0.623394</td>\n",
       "      <td>0.750066</td>\n",
       "      <td>0.734349</td>\n",
       "      <td>0.588124</td>\n",
       "      <td>0.912118</td>\n",
       "      <td>0.635636</td>\n",
       "      <td>0.693259</td>\n",
       "      <td>b'Cammeo'</td>\n",
       "    </tr>\n",
       "    <tr>\n",
       "      <th>3</th>\n",
       "      <td>0.495071</td>\n",
       "      <td>0.524136</td>\n",
       "      <td>0.512800</td>\n",
       "      <td>0.581461</td>\n",
       "      <td>0.891861</td>\n",
       "      <td>0.496220</td>\n",
       "      <td>0.640669</td>\n",
       "      <td>b'Cammeo'</td>\n",
       "    </tr>\n",
       "    <tr>\n",
       "      <th>4</th>\n",
       "      <td>0.628146</td>\n",
       "      <td>0.781992</td>\n",
       "      <td>0.709138</td>\n",
       "      <td>0.620288</td>\n",
       "      <td>0.906691</td>\n",
       "      <td>0.662711</td>\n",
       "      <td>0.646024</td>\n",
       "      <td>b'Cammeo'</td>\n",
       "    </tr>\n",
       "  </tbody>\n",
       "</table>\n",
       "</div>"
      ],
      "text/plain": [
       "       Area  Perimeter  Major_Axis_Length  Minor_Axis_Length  Eccentricity   \n",
       "0  0.675937   0.879232           0.901216           0.532417      0.928882  \\\n",
       "1  0.625330   0.714095           0.648087           0.670663      0.895405   \n",
       "2  0.623394   0.750066           0.734349           0.588124      0.912118   \n",
       "3  0.495071   0.524136           0.512800           0.581461      0.891861   \n",
       "4  0.628146   0.781992           0.709138           0.620288      0.906691   \n",
       "\n",
       "   Convex_Area    Extent      Class  \n",
       "0     0.693917  0.572896  b'Cammeo'  \n",
       "1     0.646009  0.615436  b'Cammeo'  \n",
       "2     0.635636  0.693259  b'Cammeo'  \n",
       "3     0.496220  0.640669  b'Cammeo'  \n",
       "4     0.662711  0.646024  b'Cammeo'  "
      ]
     },
     "execution_count": 5,
     "metadata": {},
     "output_type": "execute_result"
    }
   ],
   "source": [
    "def normalize_chosen_data(df, target_column, exclude_columns=[]):\n",
    "    normalized_df = df.copy()\n",
    "    for column in df.columns:\n",
    "        if column != target_column and column not in exclude_columns:\n",
    "            max_value = df[column].max()\n",
    "            min_value = df[column].min()\n",
    "            normalized_df[column] = (df[column] - min_value) / (max_value - min_value)\n",
    "    return normalized_df\n",
    "\n",
    "target_column_name = 'Class'\n",
    "exclude_columns = ['Eccentricity', 'Extent']\n",
    "normalized_df = normalize_chosen_data(df, target_column_name, exclude_columns)\n",
    "\n",
    "normalized_df.head()"
   ]
  },
  {
   "cell_type": "code",
   "execution_count": 6,
   "id": "68c70084-20f1-4a57-b722-9e736ea73bf1",
   "metadata": {
    "tags": []
   },
   "outputs": [
    {
     "data": {
      "text/html": [
       "<div>\n",
       "<style scoped>\n",
       "    .dataframe tbody tr th:only-of-type {\n",
       "        vertical-align: middle;\n",
       "    }\n",
       "\n",
       "    .dataframe tbody tr th {\n",
       "        vertical-align: top;\n",
       "    }\n",
       "\n",
       "    .dataframe thead th {\n",
       "        text-align: right;\n",
       "    }\n",
       "</style>\n",
       "<table border=\"1\" class=\"dataframe\">\n",
       "  <thead>\n",
       "    <tr style=\"text-align: right;\">\n",
       "      <th></th>\n",
       "      <th>Area</th>\n",
       "      <th>Perimeter</th>\n",
       "      <th>Major_Axis_Length</th>\n",
       "      <th>Minor_Axis_Length</th>\n",
       "      <th>Eccentricity</th>\n",
       "      <th>Convex_Area</th>\n",
       "      <th>Extent</th>\n",
       "      <th>Class</th>\n",
       "    </tr>\n",
       "  </thead>\n",
       "  <tbody>\n",
       "    <tr>\n",
       "      <th>0</th>\n",
       "      <td>0.675937</td>\n",
       "      <td>0.879232</td>\n",
       "      <td>0.901216</td>\n",
       "      <td>0.532417</td>\n",
       "      <td>0.928882</td>\n",
       "      <td>0.693917</td>\n",
       "      <td>0.572896</td>\n",
       "      <td>1</td>\n",
       "    </tr>\n",
       "    <tr>\n",
       "      <th>1</th>\n",
       "      <td>0.625330</td>\n",
       "      <td>0.714095</td>\n",
       "      <td>0.648087</td>\n",
       "      <td>0.670663</td>\n",
       "      <td>0.895405</td>\n",
       "      <td>0.646009</td>\n",
       "      <td>0.615436</td>\n",
       "      <td>1</td>\n",
       "    </tr>\n",
       "    <tr>\n",
       "      <th>2</th>\n",
       "      <td>0.623394</td>\n",
       "      <td>0.750066</td>\n",
       "      <td>0.734349</td>\n",
       "      <td>0.588124</td>\n",
       "      <td>0.912118</td>\n",
       "      <td>0.635636</td>\n",
       "      <td>0.693259</td>\n",
       "      <td>1</td>\n",
       "    </tr>\n",
       "    <tr>\n",
       "      <th>3</th>\n",
       "      <td>0.495071</td>\n",
       "      <td>0.524136</td>\n",
       "      <td>0.512800</td>\n",
       "      <td>0.581461</td>\n",
       "      <td>0.891861</td>\n",
       "      <td>0.496220</td>\n",
       "      <td>0.640669</td>\n",
       "      <td>1</td>\n",
       "    </tr>\n",
       "    <tr>\n",
       "      <th>4</th>\n",
       "      <td>0.628146</td>\n",
       "      <td>0.781992</td>\n",
       "      <td>0.709138</td>\n",
       "      <td>0.620288</td>\n",
       "      <td>0.906691</td>\n",
       "      <td>0.662711</td>\n",
       "      <td>0.646024</td>\n",
       "      <td>1</td>\n",
       "    </tr>\n",
       "  </tbody>\n",
       "</table>\n",
       "</div>"
      ],
      "text/plain": [
       "       Area  Perimeter  Major_Axis_Length  Minor_Axis_Length  Eccentricity   \n",
       "0  0.675937   0.879232           0.901216           0.532417      0.928882  \\\n",
       "1  0.625330   0.714095           0.648087           0.670663      0.895405   \n",
       "2  0.623394   0.750066           0.734349           0.588124      0.912118   \n",
       "3  0.495071   0.524136           0.512800           0.581461      0.891861   \n",
       "4  0.628146   0.781992           0.709138           0.620288      0.906691   \n",
       "\n",
       "   Convex_Area    Extent  Class  \n",
       "0     0.693917  0.572896      1  \n",
       "1     0.646009  0.615436      1  \n",
       "2     0.635636  0.693259      1  \n",
       "3     0.496220  0.640669      1  \n",
       "4     0.662711  0.646024      1  "
      ]
     },
     "execution_count": 6,
     "metadata": {},
     "output_type": "execute_result"
    }
   ],
   "source": [
    "normalized_df['Class'] = normalized_df['Class'].apply(lambda x: 1 if x == b'Cammeo' else 0).values\n",
    "normalized_df.head()"
   ]
  },
  {
   "cell_type": "markdown",
   "id": "6039f896-250d-463e-824b-db0bf4843786",
   "metadata": {},
   "source": [
    "### Model"
   ]
  },
  {
   "cell_type": "markdown",
   "id": "647014a7-c1cb-4a37-b75f-c53faaaa28a7",
   "metadata": {},
   "source": [
    "#### Splitting train and test sets"
   ]
  },
  {
   "cell_type": "code",
   "execution_count": 7,
   "id": "341dbc5f-4dd3-4291-a63f-0e807167246b",
   "metadata": {
    "tags": []
   },
   "outputs": [
    {
     "name": "stdout",
     "output_type": "stream",
     "text": [
      "Train set shape: (2667, 7) Labels: (2667,)\n",
      "Test set shape: (1143, 7) Labels: (1143,)\n"
     ]
    }
   ],
   "source": [
    "def train_test_split(X, y, test_size=0.3, random_state=None):\n",
    "    if random_state is not None:\n",
    "        np.random.seed(random_state)\n",
    "    \n",
    "    m = X.shape[0]\n",
    "    \n",
    "    indices = np.arange(m)\n",
    "    np.random.shuffle(indices)\n",
    "    \n",
    "    test_samples = int(test_size * m)\n",
    "    \n",
    "    test_indices = indices[:test_samples]\n",
    "    train_indices = indices[test_samples:]\n",
    "    \n",
    "    # split the data based on the indices\n",
    "    X_train = X.iloc[train_indices]\n",
    "    X_test = X.iloc[test_indices]\n",
    "    y_train = y.iloc[train_indices]\n",
    "    y_test = y.iloc[test_indices]\n",
    "    \n",
    "    return X_train, X_test, y_train, y_test\n",
    "\n",
    "X = normalized_df[['Area', 'Perimeter', 'Major_Axis_Length', 'Minor_Axis_Length', 'Eccentricity', 'Convex_Area', 'Extent']]\n",
    "y = normalized_df['Class']\n",
    "\n",
    "X_train, X_test, y_train, y_test = train_test_split(X, y, test_size=0.3, random_state=42)\n",
    "\n",
    "print(\"Train set shape:\", X_train.shape, \"Labels:\", y_train.shape)\n",
    "print(\"Test set shape:\", X_test.shape, \"Labels:\", y_test.shape)\n"
   ]
  },
  {
   "cell_type": "markdown",
   "id": "2bc0b07c",
   "metadata": {},
   "source": [
    "#### Sigmoid and Compute Gradient Functions"
   ]
  },
  {
   "cell_type": "code",
   "execution_count": 8,
   "id": "3c70e272",
   "metadata": {},
   "outputs": [],
   "source": [
    "def sigmoid(z):\n",
    "    return 1 / (1 + np.exp(-z))\n",
    "\n",
    "def computeGradient(X, y, y_pred):\n",
    "    return np.dot(X.T, (y_pred - y)) / y.shape[0]"
   ]
  },
  {
   "cell_type": "markdown",
   "id": "da8b32a7",
   "metadata": {},
   "source": [
    "#### Logistic Regression trained with GD"
   ]
  },
  {
   "cell_type": "code",
   "execution_count": 9,
   "id": "a05db0f2",
   "metadata": {
    "tags": []
   },
   "outputs": [
    {
     "name": "stdout",
     "output_type": "stream",
     "text": [
      "Weights: [ 1.54534364  2.50251218  2.8265987  -0.91141588 -2.57004891  1.61442835\n",
      " -2.29311512]\n"
     ]
    }
   ],
   "source": [
    "def logistic_regression_GD(X, y, lr=0.1, iterations=1000):\n",
    "    w = np.zeros(X.shape[1]) \n",
    "    losses = []\n",
    "\n",
    "    for i in range(iterations):\n",
    "        y_pred = sigmoid(np.dot(X, w))  \n",
    "        gradient = computeGradient(X, y, y_pred)  \n",
    "        w -= lr * gradient\n",
    "        \n",
    "        # calculate loss\n",
    "        epsilon = 1e-5  # adding a small constant to prevent log0\n",
    "        loss = -np.mean(y * np.log(y_pred + epsilon) + (1 - y) * np.log(1 - y_pred + epsilon))\n",
    "        losses.append(loss)\n",
    "\n",
    "    return w, losses\n",
    "\n",
    "weights, losses = logistic_regression_GD(X_train, y_train, lr=0.1, iterations=1000)\n",
    "\n",
    "print(\"Weights:\", weights)"
   ]
  },
  {
   "cell_type": "markdown",
   "id": "371c0cc8",
   "metadata": {},
   "source": [
    "#### Logistic Regression trained with SGD"
   ]
  },
  {
   "cell_type": "code",
   "execution_count": 10,
   "id": "c3d947a2-cd7c-4dc7-a14c-32a2ee96bcf7",
   "metadata": {
    "tags": []
   },
   "outputs": [
    {
     "name": "stdout",
     "output_type": "stream",
     "text": [
      "Weights: [  3.2735429    8.37157294  12.90151663 -10.76192317 -11.75929988\n",
      "   6.59076163   1.31169506]\n"
     ]
    }
   ],
   "source": [
    "def logistic_regression_SGD(X, y, lr=0.01, iterations=1000):\n",
    "    m = X.shape[0]\n",
    "    w = np.zeros(X.shape[1])\n",
    "    losses = []\n",
    "    \n",
    "    for i in range(iterations):\n",
    "        epoch_loss = 0.0\n",
    "        \n",
    "        permutation = np.random.permutation(m)\n",
    "        X_shuffled = X.values[permutation]\n",
    "        y_shuffled = y.values[permutation]\n",
    "        \n",
    "        for j in range(m):\n",
    "            # picking a random sample\n",
    "            X_sample = X_shuffled[j]\n",
    "            y_sample = y_shuffled[j]\n",
    "            \n",
    "            # calculate predicted value and gradient\n",
    "            y_pred = sigmoid(np.dot(X_sample, w))\n",
    "            gradient = np.dot(X_sample.T, (y_pred - y_sample))\n",
    "            \n",
    "            # calculate loss\n",
    "            epsilon = 1e-15\n",
    "            loss = - (y_sample * np.log(y_pred + epsilon) + (1 - y_sample) * np.log(1 - y_pred + epsilon))\n",
    "            epoch_loss += loss\n",
    "            \n",
    "            # update weights\n",
    "            w -= lr * gradient\n",
    "            \n",
    "        losses.append(epoch_loss / m)\n",
    "    \n",
    "    return w, losses\n",
    "\n",
    "weights, losses = logistic_regression_SGD(X_train, y_train, iterations=1000)\n",
    "print(\"Weights:\", weights)"
   ]
  },
  {
   "cell_type": "code",
   "execution_count": 11,
   "id": "cb4d4dfe-03cc-4534-84d7-3752bcc171bc",
   "metadata": {
    "tags": []
   },
   "outputs": [
    {
     "data": {
      "image/png": "[encoded data removed]",
      "text/plain": [
       "<Figure size 640x480 with 1 Axes>"
      ]
     },
     "metadata": {},
     "output_type": "display_data"
    }
   ],
   "source": [
    "import matplotlib.pyplot as plt\n",
    "\n",
    "# training with different learning rates\n",
    "rates = [0.001, 0.01, 0.1]\n",
    "losses_dict = {}\n",
    "\n",
    "for rate in rates:\n",
    "    w, losses = logistic_regression_SGD(X_train, y_train, lr=rate, iterations=1000)\n",
    "    losses_dict[rate] = losses\n",
    "\n",
    "for rate, losses in losses_dict.items():\n",
    "    plt.plot(losses, label=f'LR={rate}')\n",
    "\n",
    "plt.xlabel('Epochs')\n",
    "plt.ylabel('Logistic Loss')\n",
    "plt.title('Effect of Learning Rate on SGD Convergence')\n",
    "plt.legend()\n",
    "plt.show()"
   ]
  },
  {
   "cell_type": "markdown",
   "id": "5ea52a60",
   "metadata": {},
   "source": [
    "#### Logistic Regression Regularized by the Square of the Weight Vector’s l_2 norm trained with GD"
   ]
  },
  {
   "cell_type": "code",
   "execution_count": 12,
   "id": "f4e2ba12-e343-4c02-879f-5fb12c2d3706",
   "metadata": {
    "tags": []
   },
   "outputs": [
    {
     "name": "stdout",
     "output_type": "stream",
     "text": [
      "Weights: [ 1.5428142   2.49837157  2.8218779  -0.90985302 -2.56591294  1.61178323\n",
      " -2.28945883]\n"
     ]
    }
   ],
   "source": [
    "def computeRegularizingTerm(lambda_val, w, y):\n",
    "    return lambda_val * w / y.shape[0]\n",
    "\n",
    "def logistic_regression_L2_GD(X, y, lr=0.1, lambda_val=0.1, iterations=1000):\n",
    "    w = np.zeros(X.shape[1])  \n",
    "    losses = []\n",
    "\n",
    "    for i in range(iterations):\n",
    "        y_pred = sigmoid(np.dot(X, w))  \n",
    "        gradient = computeGradient(X, y, y_pred) + computeRegularizingTerm(lambda_val, w, y)\n",
    "        w -= lr * gradient\n",
    "        \n",
    "        # calculate loss\n",
    "        epsilon = 1e-5\n",
    "        loss = -np.mean(y * np.log(y_pred + epsilon) + (1 - y) * np.log(1 - y_pred + epsilon))\n",
    "        losses.append(loss)\n",
    "\n",
    "    return w, losses\n",
    "\n",
    "weights, losses = logistic_regression_L2_GD(X_train, y_train, iterations=1000)\n",
    "print(\"Weights:\", weights)"
   ]
  },
  {
   "cell_type": "markdown",
   "id": "192ccacb-4e28-465c-b3ce-835a3b66ad45",
   "metadata": {},
   "source": [
    "#### Logistic Regression Regularized by the Square of the Weight Vector’s l_2 norm trained with SGD"
   ]
  },
  {
   "cell_type": "code",
   "execution_count": 13,
   "id": "09a005db-025e-4124-a07c-973861e18cfd",
   "metadata": {
    "tags": []
   },
   "outputs": [
    {
     "name": "stdout",
     "output_type": "stream",
     "text": [
      "Weights: [ 0.23539844  0.3721388   0.41147436 -0.13020104 -0.42510944  0.24492295\n",
      " -0.38618361]\n"
     ]
    }
   ],
   "source": [
    "def logistic_regression_L2_SGD(X, y, lr=0.01, lambda_val=0.1, iterations=1000):\n",
    "    m = X.shape[0]\n",
    "    w = np.zeros(X.shape[1])\n",
    "    losses = []\n",
    "    \n",
    "    for i in range(iterations):\n",
    "        epoch_loss = 0.0\n",
    "\n",
    "        permutation = np.random.permutation(m)\n",
    "        X_shuffled = X.values[permutation]\n",
    "        y_shuffled = y.values[permutation]\n",
    "        \n",
    "        for j in range(m):\n",
    "            X_sample = X_shuffled[j]\n",
    "            y_sample = y_shuffled[j]\n",
    "            \n",
    "            # calculate predicted value and gradient\n",
    "            y_pred = sigmoid(np.dot(X_sample, w))\n",
    "            gradient = (np.dot(X_sample.T, (y_pred - y_sample)) + lambda_val * w)\n",
    "            \n",
    "            # calculate loss\n",
    "            epsilon = 1e-15\n",
    "            loss = - (y_sample * np.log(y_pred + epsilon) + (1 - y_sample) * np.log(1 - y_pred + epsilon))\n",
    "            epoch_loss += loss\n",
    "            \n",
    "            # update weights\n",
    "            w -= lr * gradient\n",
    "        losses.append(epoch_loss / m)\n",
    "    \n",
    "    return w, losses\n",
    "\n",
    "weights, losses = logistic_regression_L2_SGD(X_train, y_train, iterations=1000)\n",
    "print(\"Weights:\", weights)"
   ]
  },
  {
   "cell_type": "code",
   "execution_count": 14,
   "id": "245cf025-84fd-4f51-9d63-67798004fb9c",
   "metadata": {
    "tags": []
   },
   "outputs": [
    {
     "name": "stdout",
     "output_type": "stream",
     "text": [
      "Test Accuracy: 0.8818897637795275\n",
      "Train Accuracy: 0.8781402324709411\n"
     ]
    }
   ],
   "source": [
    "def predict(X, w):\n",
    "    y_pred_proba = sigmoid(np.dot(X, w))\n",
    "    y_pred = []\n",
    "    for prob in y_pred_proba:\n",
    "        if prob >= 0.5:\n",
    "            y_pred.append(1)\n",
    "        else:\n",
    "            y_pred.append(0)\n",
    "    y_pred = np.array(y_pred)\n",
    "    return y_pred\n",
    "\n",
    "\n",
    "X_test = pd.DataFrame(X_test)\n",
    "y_pred = predict(X_test, weights)\n",
    "X_train = pd.DataFrame(X_train)\n",
    "y_pred_train = predict(X_train, weights)\n",
    "\n",
    "# calculate accuracy\n",
    "accuracy_test = np.mean(y_pred == y_test)\n",
    "print(\"Test Accuracy:\", accuracy_test)\n",
    "accuracy_train = np.mean(y_pred_train == y_train)\n",
    "print(\"Train Accuracy:\", accuracy_train)"
   ]
  },
  {
   "cell_type": "markdown",
   "id": "558f4eef-d46f-4c88-896c-8741c3df2595",
   "metadata": {},
   "source": [
    "### 5-Fold Cross Validation"
   ]
  },
  {
   "cell_type": "code",
   "execution_count": 15,
   "id": "500f9dcb",
   "metadata": {
    "tags": []
   },
   "outputs": [
    {
     "name": "stdout",
     "output_type": "stream",
     "text": [
      "Best lambda: 0.01\n",
      "Performance: {0.001: 0.9193350831146108, 0.01: 0.9195100612423447, 0.1: 0.9160104986876639, 1: 0.8218722659667541}\n"
     ]
    }
   ],
   "source": [
    "def cross_validate(X, y, learning_rate, lambda_vals, num_iterations, k=5):\n",
    "    np.random.seed(42)\n",
    "    lambda_performance = {}\n",
    "\n",
    "    # shuffling\n",
    "    indices = list(range(len(X)))  #list of indices\n",
    "    np.random.shuffle(indices)\n",
    "    X = X.iloc[indices]\n",
    "    y = y.iloc[indices]\n",
    "    X.reset_index(drop=True, inplace=True)\n",
    "    y.reset_index(drop=True, inplace=True)\n",
    "\n",
    "    # k-folds\n",
    "    fold_size = len(X) // k\n",
    "\n",
    "    for lambda_val in lambda_vals:\n",
    "        accuracies = []\n",
    "\n",
    "        for fold_num in range(k):\n",
    "            val_start_index, val_end_index = fold_num * fold_size, (fold_num + 1) * fold_size\n",
    "            X_val, y_val = X[val_start_index:val_end_index], y[val_start_index:val_end_index]\n",
    "            X_train = pd.concat((X.iloc[:val_start_index], X.iloc[val_end_index:]), axis=0)\n",
    "            y_train = pd.concat((y.iloc[:val_start_index], y.iloc[val_end_index:]), axis=0)\n",
    "   \n",
    "            # calculate accuracy on the test fold\n",
    "            W, losses = logistic_regression_L2_SGD(X_train, y_train, lambda_val, learning_rate, num_iterations)\n",
    "            y_pred = sigmoid(np.dot(X_test, W)) >= 0.5\n",
    "            accuracy = np.mean(y_pred == y_test)\n",
    "            accuracies.append(accuracy)\n",
    "        \n",
    "        # avg performance for this lambda\n",
    "        lambda_performance[lambda_val] = np.mean(accuracies)\n",
    "\n",
    "    best_lambda = max(lambda_performance, key=lambda_performance.get)\n",
    "    return best_lambda, lambda_performance\n",
    "\n",
    "lambda_vals = [0.001, 0.01, 0.1, 1]\n",
    "best_lambda, performance = cross_validate(X, y, 0.01, lambda_vals, 1000)\n",
    "print(\"Best lambda:\", best_lambda)\n",
    "print(\"Performance:\", performance)\n"
   ]
  },
  {
   "cell_type": "markdown",
   "id": "cdc0d6a8-f618-4e8b-ac31-ed11769b74d1",
   "metadata": {},
   "source": [
    "#### Plotting and Comparing the Loss Curves for SGD and GD"
   ]
  },
  {
   "cell_type": "code",
   "execution_count": 16,
   "id": "defa46b8-9d26-4e1d-9b30-e7d93f8470f0",
   "metadata": {
    "tags": []
   },
   "outputs": [
    {
     "name": "stdout",
     "output_type": "stream",
     "text": [
      "Accuracy: 0.9256342957130359\n",
      "Accuracy: 0.9221347331583553\n"
     ]
    }
   ],
   "source": [
    "W_GD, loss_GD = logistic_regression_GD(X_train, y_train, lr=0.6)\n",
    "W_SGD, loss_SGD = logistic_regression_SGD(X_train, y_train, lr=0.0001)\n",
    "\n",
    "X_test = pd.DataFrame(X_test)\n",
    "y_GD_pred = predict(X_test, W_GD)\n",
    "y_SGD_pred = predict(X_test, W_SGD)\n",
    "\n",
    "accuracy = np.mean(y_GD_pred == y_test)\n",
    "print(\"Accuracy:\", accuracy)\n",
    "accuracy = np.mean(y_SGD_pred == y_test)\n",
    "print(\"Accuracy:\", accuracy)"
   ]
  },
  {
   "cell_type": "code",
   "execution_count": 17,
   "id": "a1bd6ce3-2eac-47cd-9511-8c3904ce7fc2",
   "metadata": {
    "tags": []
   },
   "outputs": [
    {
     "name": "stdout",
     "output_type": "stream",
     "text": [
      "GD Training Time: 1.1876671314239502\n",
      "SGD Training Time: 17.122313261032104\n"
     ]
    },
    {
     "data": {
      "image/png": "[encoded data removed]",
      "text/plain": [
       "<Figure size 640x480 with 1 Axes>"
      ]
     },
     "metadata": {},
     "output_type": "display_data"
    }
   ],
   "source": [
    "import matplotlib.pyplot as plt\n",
    "import time\n",
    "\n",
    "# GD\n",
    "start_time = time.time()\n",
    "weight_GD, losses_GD = logistic_regression_GD(X_train, y_train, lr=0.6)\n",
    "end_time = time.time()\n",
    "print(\"GD Training Time:\", end_time - start_time)\n",
    "\n",
    "# SGD\n",
    "start_time = time.time()\n",
    "weight_SGD, losses_SGD = logistic_regression_SGD(X_train, y_train, lr=0.0001)\n",
    "end_time = time.time()\n",
    "print(\"SGD Training Time:\", end_time - start_time)\n",
    "\n",
    "# plotting the loss curves\n",
    "plt.plot(losses_GD, label='GD')\n",
    "plt.plot(losses_SGD, label='SGD')\n",
    "plt.xlabel('Iteration')\n",
    "plt.ylabel('Loss')\n",
    "plt.title('Loss Curve Comparison: GD vs SGD')\n",
    "plt.legend()\n",
    "plt.show()"
   ]
  },
  {
   "cell_type": "code",
   "execution_count": 18,
   "id": "13116011-00ff-41fb-bedf-370fe4d109bc",
   "metadata": {
    "tags": []
   },
   "outputs": [
    {
     "name": "stdout",
     "output_type": "stream",
     "text": [
      "Accuracy: 0.9256342957130359\n",
      "Accuracy: 0.9186351706036745\n"
     ]
    }
   ],
   "source": [
    "# finding similar models in terms of performance\n",
    "W_L2_GD, loss_L2_GD = logistic_regression_L2_GD(X_train, y_train, lr=0.6, lambda_val= 0.5, iterations=2000)\n",
    "W_L2_SGD, loss_L2_SGD = logistic_regression_L2_SGD(X_train, y_train, lr=0.0001, lambda_val = 0.01, iterations=2000)\n",
    "\n",
    "X_test = pd.DataFrame(X_test)\n",
    "y_GD_pred = predict(X_test, W_L2_GD)\n",
    "y_SGD_pred = predict(X_test, W_L2_SGD)\n",
    "\n",
    "accuracy = np.mean(y_GD_pred == y_test)\n",
    "print(\"Accuracy:\", accuracy)\n",
    "accuracy = np.mean(y_SGD_pred == y_test)\n",
    "print(\"Accuracy:\", accuracy)"
   ]
  },
  {
   "cell_type": "code",
   "execution_count": 19,
   "id": "d067ab40-a9d4-483c-9d85-dcacb3e6bfa0",
   "metadata": {
    "tags": []
   },
   "outputs": [
    {
     "name": "stdout",
     "output_type": "stream",
     "text": [
      "GD Training Time: 2.7310678958892822\n",
      "SGD Training Time: 39.6856107711792\n"
     ]
    },
    {
     "data": {
      "image/png": "[encoded data removed]",
      "text/plain": [
       "<Figure size 640x480 with 1 Axes>"
      ]
     },
     "metadata": {},
     "output_type": "display_data"
    }
   ],
   "source": [
    "# GD\n",
    "start_time = time.time()\n",
    "weight_L2_GD, losses_L2_GD = logistic_regression_L2_GD(X_train, y_train, lr=0.6, lambda_val= 0.5, iterations=2000)\n",
    "end_time = time.time()\n",
    "print(\"GD Training Time:\", end_time - start_time)\n",
    "\n",
    "# SGD\n",
    "start_time = time.time()\n",
    "weight_L2_SGD, losses_L2_SGD = logistic_regression_L2_SGD(X_train, y_train, lr=0.0001, lambda_val = 0.01, iterations=2000)\n",
    "end_time = time.time()\n",
    "print(\"SGD Training Time:\", end_time - start_time)\n",
    "\n",
    "# plotting the loss curves\n",
    "plt.plot(losses_L2_GD, label='GD with L2')\n",
    "plt.plot(losses_L2_SGD, label='SGD with L2')\n",
    "plt.xlabel('Iteration')\n",
    "plt.ylabel('Loss')\n",
    "plt.title('Loss Curve Comparison: GD vs SGD')\n",
    "plt.legend()\n",
    "plt.show()"
   ]
  }
 ],
 "metadata": {
  "kernelspec": {
   "display_name": "Python 3 (ipykernel)",
   "language": "python",
   "name": "python3"
  },
  "language_info": {
   "codemirror_mode": {
    "name": "ipython",
    "version": 3
   },
   "file_extension": ".py",
   "mimetype": "text/x-python",
   "name": "python",
   "nbconvert_exporter": "python",
   "pygments_lexer": "ipython3",
   "version": "3.11.4"
  }
 },
 "nbformat": 4,
 "nbformat_minor": 5
}
